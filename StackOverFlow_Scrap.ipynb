{
 "cells": [
  {
   "cell_type": "code",
   "execution_count": 1,
   "metadata": {},
   "outputs": [],
   "source": [
    "import requests\n",
    "from bs4 import BeautifulSoup\n",
    "\n",
    "import time\n",
    "from selenium.webdriver import Chrome\n",
    "\n",
    "from selenium.webdriver.common.by import By\n",
    "from selenium.webdriver.support.ui import WebDriverWait\n",
    "from selenium.webdriver.support import expected_conditions as EC"
   ]
  },
  {
   "cell_type": "code",
   "execution_count": 228,
   "metadata": {},
   "outputs": [],
   "source": [
    "url=\"https://stackoverflow.com/jobs?q=python\"\n",
    "\n",
    "driver = Chrome()\n",
    "driver.get(url)"
   ]
  },
  {
   "cell_type": "code",
   "execution_count": 2,
   "metadata": {
    "scrolled": true
   },
   "outputs": [
    {
     "name": "stdout",
     "output_type": "stream",
     "text": [
      "25\n",
      "50\n",
      "75\n",
      "100\n",
      "125\n",
      "150\n",
      "175\n",
      "200\n"
     ]
    }
   ],
   "source": [
    "url=\"https://stackoverflow.com/jobs?q=python\"\n",
    "\n",
    "driver = Chrome()\n",
    "driver.get(url)\n",
    "\n",
    "title_list=[]\n",
    "company_list=[]\n",
    "location_list=[]\n",
    "\n",
    "while True:\n",
    "    wc=WebDriverWait(driver, 10)\n",
    "    \n",
    "    url=driver.current_url\n",
    "\n",
    "    res=requests.get(url)\n",
    "    res_text=res.text\n",
    "    soup=BeautifulSoup(res_text, 'html.parser')\n",
    "\n",
    "    jobs_tag=soup.find(\"div\",{\"class\":\"listResults\"}).find_all(\"div\",{\"class\":\"grid--cell fl1 \"})\n",
    "    # print(jobs_tag)\n",
    "    \n",
    "    for job in jobs_tag:\n",
    "        title=job.find(\"h2\",{\"class\":\"mb4 fc-black-800 fs-body3\"}).get_text('\\n', strip=True)\n",
    "        company=job.find(\"h3\").find(\"span\").get_text('\\n', strip=True)\n",
    "        location=job.find(\"h3\").find_all(\"span\")[1].get_text('\\n', strip=True)\n",
    "        \n",
    "        title_list.append(title)\n",
    "        company_list.append(company)\n",
    "        location_list.append(location)\n",
    "    \n",
    "    # 다음페이지 버튼 클릭\n",
    "    next_btn=driver.find_element(By.CLASS_NAME, \"s-pagination\").find_elements(By.TAG_NAME,\"a\")[-1]\n",
    "    len_exist=len(next_btn.find_elements(By.CLASS_NAME,\"material-icons\"))\n",
    "    # print(driver.find_element(By.CLASS_NAME, \"s-pagination\"))\n",
    "    print(len(title_list))\n",
    "    if len_exist > 0:\n",
    "        driver.execute_script(\"arguments[0].click();\", next_btn)\n",
    "#         next_btn.click()\n",
    "        time.sleep(0.5)\n",
    "    else:\n",
    "        break"
   ]
  },
  {
   "cell_type": "code",
   "execution_count": null,
   "metadata": {},
   "outputs": [],
   "source": []
  },
  {
   "cell_type": "markdown",
   "metadata": {},
   "source": [
    "# 엑셀로 데이터 저장\n",
    " - pandas 이용"
   ]
  },
  {
   "cell_type": "code",
   "execution_count": 4,
   "metadata": {},
   "outputs": [],
   "source": [
    "import pandas as pd\n",
    "import numpy as np"
   ]
  },
  {
   "cell_type": "code",
   "execution_count": 7,
   "metadata": {},
   "outputs": [],
   "source": [
    "name={\"position\":title_list, \"company\":company_list, \"location\":location_list}\n",
    "df=pd.DataFrame(name)\n",
    "df.to_excel(excel_writer=\"StackOverFlow_Scrap.xlsx\") # 엑셀 파일로 저장"
   ]
  },
  {
   "cell_type": "code",
   "execution_count": 8,
   "metadata": {},
   "outputs": [
    {
     "data": {
      "text/html": [
       "<div>\n",
       "<style scoped>\n",
       "    .dataframe tbody tr th:only-of-type {\n",
       "        vertical-align: middle;\n",
       "    }\n",
       "\n",
       "    .dataframe tbody tr th {\n",
       "        vertical-align: top;\n",
       "    }\n",
       "\n",
       "    .dataframe thead th {\n",
       "        text-align: right;\n",
       "    }\n",
       "</style>\n",
       "<table border=\"1\" class=\"dataframe\">\n",
       "  <thead>\n",
       "    <tr style=\"text-align: right;\">\n",
       "      <th></th>\n",
       "      <th>position</th>\n",
       "      <th>company</th>\n",
       "      <th>location</th>\n",
       "    </tr>\n",
       "  </thead>\n",
       "  <tbody>\n",
       "    <tr>\n",
       "      <td>0</td>\n",
       "      <td>Senior Backend Engineer (Python/Django)</td>\n",
       "      <td>Financial Technology Partners</td>\n",
       "      <td>San Francisco, CA</td>\n",
       "    </tr>\n",
       "    <tr>\n",
       "      <td>1</td>\n",
       "      <td>Software Engineer (Python/ Django)</td>\n",
       "      <td>Sector Labs</td>\n",
       "      <td>Dubai, United Arab Emirates</td>\n",
       "    </tr>\n",
       "    <tr>\n",
       "      <td>2</td>\n",
       "      <td>Software Developer (Python)</td>\n",
       "      <td>Picnic</td>\n",
       "      <td>Amsterdam, Netherlands</td>\n",
       "    </tr>\n",
       "    <tr>\n",
       "      <td>3</td>\n",
       "      <td>Senior Backend Engineer (Python/Django)</td>\n",
       "      <td>NewtonX</td>\n",
       "      <td>New York, NY</td>\n",
       "    </tr>\n",
       "    <tr>\n",
       "      <td>4</td>\n",
       "      <td>Senior Marketing Software Engineer (Python) - ...</td>\n",
       "      <td>Chewy, Inc.</td>\n",
       "      <td>Dania Beach, FL</td>\n",
       "    </tr>\n",
       "    <tr>\n",
       "      <td>...</td>\n",
       "      <td>...</td>\n",
       "      <td>...</td>\n",
       "      <td>...</td>\n",
       "    </tr>\n",
       "    <tr>\n",
       "      <td>195</td>\n",
       "      <td>(Senior) Python Data Engineer - Marketing Tech...</td>\n",
       "      <td>Delivery Hero SE</td>\n",
       "      <td>Berlin, Germany</td>\n",
       "    </tr>\n",
       "    <tr>\n",
       "      <td>196</td>\n",
       "      <td>Senior Python Dev for Open Source Dev Tools</td>\n",
       "      <td>Iterative, Inc</td>\n",
       "      <td>No office location</td>\n",
       "    </tr>\n",
       "    <tr>\n",
       "      <td>197</td>\n",
       "      <td>Senior Python and Machine Learning Engineer - ...</td>\n",
       "      <td>Cvedia PTE. LTD.</td>\n",
       "      <td>No office location</td>\n",
       "    </tr>\n",
       "    <tr>\n",
       "      <td>198</td>\n",
       "      <td>Genesys Cloud Engineer (PureCloud Admin, k8s, ...</td>\n",
       "      <td>EverQuote Inc.</td>\n",
       "      <td>No office location</td>\n",
       "    </tr>\n",
       "    <tr>\n",
       "      <td>199</td>\n",
       "      <td>(Senior or Lead) Python Engineer (m/f/d) - Pay...</td>\n",
       "      <td>TIER Mobility GmbH</td>\n",
       "      <td>Berlin, Deutschland</td>\n",
       "    </tr>\n",
       "  </tbody>\n",
       "</table>\n",
       "<p>200 rows × 3 columns</p>\n",
       "</div>"
      ],
      "text/plain": [
       "                                              position  \\\n",
       "0              Senior Backend Engineer (Python/Django)   \n",
       "1                   Software Engineer (Python/ Django)   \n",
       "2                          Software Developer (Python)   \n",
       "3              Senior Backend Engineer (Python/Django)   \n",
       "4    Senior Marketing Software Engineer (Python) - ...   \n",
       "..                                                 ...   \n",
       "195  (Senior) Python Data Engineer - Marketing Tech...   \n",
       "196        Senior Python Dev for Open Source Dev Tools   \n",
       "197  Senior Python and Machine Learning Engineer - ...   \n",
       "198  Genesys Cloud Engineer (PureCloud Admin, k8s, ...   \n",
       "199  (Senior or Lead) Python Engineer (m/f/d) - Pay...   \n",
       "\n",
       "                           company                     location  \n",
       "0    Financial Technology Partners            San Francisco, CA  \n",
       "1                      Sector Labs  Dubai, United Arab Emirates  \n",
       "2                           Picnic       Amsterdam, Netherlands  \n",
       "3                          NewtonX                 New York, NY  \n",
       "4                      Chewy, Inc.              Dania Beach, FL  \n",
       "..                             ...                          ...  \n",
       "195               Delivery Hero SE              Berlin, Germany  \n",
       "196                 Iterative, Inc           No office location  \n",
       "197               Cvedia PTE. LTD.           No office location  \n",
       "198                 EverQuote Inc.           No office location  \n",
       "199             TIER Mobility GmbH          Berlin, Deutschland  \n",
       "\n",
       "[200 rows x 3 columns]"
      ]
     },
     "execution_count": 8,
     "metadata": {},
     "output_type": "execute_result"
    }
   ],
   "source": [
    "df"
   ]
  },
  {
   "cell_type": "code",
   "execution_count": null,
   "metadata": {},
   "outputs": [],
   "source": []
  },
  {
   "cell_type": "code",
   "execution_count": null,
   "metadata": {},
   "outputs": [],
   "source": []
  },
  {
   "cell_type": "code",
   "execution_count": null,
   "metadata": {},
   "outputs": [],
   "source": []
  },
  {
   "cell_type": "code",
   "execution_count": 212,
   "metadata": {},
   "outputs": [
    {
     "name": "stdout",
     "output_type": "stream",
     "text": [
      "<selenium.webdriver.remote.webelement.WebElement (session=\"2d23856065d3d3c35b5812bdfa5be8e8\", element=\"944b70a0-bf55-4004-931b-1bb60bead1e5\")>\n",
      "111\n"
     ]
    }
   ],
   "source": [
    "next_btn=driver.find_element(By.CLASS_NAME, \"s-pagination\").find_elements(By.TAG_NAME,\"a\")[-1]\n",
    "print(next_btn)\n",
    "isExist=next_btn.find_element(By.CLASS_NAME,\"material-icons\")\n",
    "# print(driver.find_element(By.CLASS_NAME, \"s-pagination\"))\n",
    "if isExist :\n",
    "    print(\"111\")\n",
    "    next_btn.click()\n",
    "\n",
    "   "
   ]
  },
  {
   "cell_type": "code",
   "execution_count": null,
   "metadata": {},
   "outputs": [],
   "source": []
  },
  {
   "cell_type": "code",
   "execution_count": null,
   "metadata": {},
   "outputs": [],
   "source": []
  },
  {
   "cell_type": "code",
   "execution_count": null,
   "metadata": {},
   "outputs": [],
   "source": []
  }
 ],
 "metadata": {
  "kernelspec": {
   "display_name": "Python 3",
   "language": "python",
   "name": "python3"
  },
  "language_info": {
   "codemirror_mode": {
    "name": "ipython",
    "version": 3
   },
   "file_extension": ".py",
   "mimetype": "text/x-python",
   "name": "python",
   "nbconvert_exporter": "python",
   "pygments_lexer": "ipython3",
   "version": "3.8.8"
  }
 },
 "nbformat": 4,
 "nbformat_minor": 2
}
